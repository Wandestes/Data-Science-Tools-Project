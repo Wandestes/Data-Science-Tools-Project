{
 "cells": [
  {
   "cell_type": "markdown",
   "id": "b4f3c740",
   "metadata": {},
   "source": [
    "# Question 1 - Extracting Tesla Stock Data Using yfinance"
   ]
  },
  {
   "cell_type": "code",
   "execution_count": null,
   "id": "83762aea",
   "metadata": {},
   "outputs": [],
   "source": [
    "\n",
    "import yfinance as yf\n",
    "import pandas as pd\n",
    "\n",
    "# Завантажуємо дані про Tesla\n",
    "tesla = yf.Ticker(\"TSLA\")\n",
    "tesla_data = tesla.history(period=\"max\")\n",
    "tesla_data.reset_index(inplace=True)\n",
    "tesla_data.head()\n"
   ]
  },
  {
   "cell_type": "markdown",
   "id": "6fd21b17",
   "metadata": {},
   "source": [
    "# Question 2 - Extracting Tesla Revenue Data Using Webscraping"
   ]
  },
  {
   "cell_type": "code",
   "execution_count": null,
   "id": "bdcc2d53",
   "metadata": {},
   "outputs": [],
   "source": [
    "\n",
    "from bs4 import BeautifulSoup\n",
    "import requests\n",
    "\n",
    "url = \"https://finance.yahoo.com/quote/TSLA/financials?p=TSLA\"\n",
    "html_data = requests.get(url).text\n",
    "soup = BeautifulSoup(html_data, \"html.parser\")\n",
    "\n",
    "# Перевіряємо заголовок сторінки\n",
    "print(soup.title)\n"
   ]
  },
  {
   "cell_type": "markdown",
   "id": "6f92fb64",
   "metadata": {},
   "source": [
    "# Question 3 - Extracting GameStop Stock Data Using yfinance"
   ]
  },
  {
   "cell_type": "code",
   "execution_count": null,
   "id": "f5cf9ff4",
   "metadata": {},
   "outputs": [],
   "source": [
    "\n",
    "gamestop = yf.Ticker(\"GME\")\n",
    "gme_data = gamestop.history(period=\"max\")\n",
    "gme_data.reset_index(inplace=True)\n",
    "gme_data.head()\n"
   ]
  },
  {
   "cell_type": "markdown",
   "id": "5557a2e8",
   "metadata": {},
   "source": [
    "# Question 4 - Extracting GameStop Revenue Data Using Webscraping"
   ]
  },
  {
   "cell_type": "code",
   "execution_count": null,
   "id": "837e190c",
   "metadata": {},
   "outputs": [],
   "source": [
    "\n",
    "url = \"https://finance.yahoo.com/quote/GME/financials?p=GME\"\n",
    "html_data = requests.get(url).text\n",
    "soup = BeautifulSoup(html_data, \"html.parser\")\n",
    "\n",
    "# Перевіряємо заголовок сторінки\n",
    "print(soup.title)\n"
   ]
  },
  {
   "cell_type": "markdown",
   "id": "085e399d",
   "metadata": {},
   "source": [
    "# Question 5 - Tesla Stock and Revenue Dashboard"
   ]
  },
  {
   "cell_type": "code",
   "execution_count": null,
   "id": "d5186609",
   "metadata": {},
   "outputs": [],
   "source": [
    "\n",
    "import matplotlib.pyplot as plt\n",
    "\n",
    "plt.figure(figsize=(10,6))\n",
    "plt.plot(tesla_data[\"Date\"], tesla_data[\"Close\"], label=\"Tesla Stock Price\", color=\"blue\")\n",
    "plt.title(\"Tesla Stock Price Over Time\")\n",
    "plt.xlabel(\"Date\")\n",
    "plt.ylabel(\"Price (USD)\")\n",
    "plt.legend()\n",
    "plt.show()\n"
   ]
  },
  {
   "cell_type": "markdown",
   "id": "c11ac7f5",
   "metadata": {},
   "source": [
    "# Question 6 - GameStop Stock and Revenue Dashboard"
   ]
  },
  {
   "cell_type": "code",
   "execution_count": null,
   "id": "319bea0a",
   "metadata": {},
   "outputs": [],
   "source": [
    "\n",
    "plt.figure(figsize=(10,6))\n",
    "plt.plot(gme_data[\"Date\"], gme_data[\"Close\"], label=\"GameStop Stock Price\", color=\"orange\")\n",
    "plt.title(\"GameStop Stock Price Over Time\")\n",
    "plt.xlabel(\"Date\")\n",
    "plt.ylabel(\"Price (USD)\")\n",
    "plt.legend()\n",
    "plt.show()\n"
   ]
  },
  {
   "cell_type": "markdown",
   "id": "f0188f8c",
   "metadata": {},
   "source": [
    "# Question 7 - Sharing your Assignment Notebook"
   ]
  },
  {
   "cell_type": "markdown",
   "id": "a1b13b1e",
   "metadata": {},
   "source": [
    "Upload your completed notebook to GitHub and include the link in your submission."
   ]
  }
 ],
 "metadata": {},
 "nbformat": 4,
 "nbformat_minor": 5
}
