{
  "cells": [
    {
      "cell_type": "markdown",
      "metadata": {},
      "source": [
        "# Extracting and Visualizing Stock Data (Tesla & GameStop)\n",
        "This notebook follows the IBM Skills Network lab format and contains all 7 questions:\n",
        "1. Extract Tesla stock data using `yfinance`\n",
        "2. Extract Tesla revenue data using web scraping (Macrotrends)\n",
        "3. Extract GameStop stock data using `yfinance`\n",
        "4. Extract GameStop revenue data using web scraping (Macrotrends)\n",
        "5. Tesla stock vs revenue dashboard\n",
        "6. GameStop stock vs revenue dashboard\n",
        "7. Save & share notebook\n",
        "\n",
        "Run each code cell in order. If you open this notebook in an environment without `yfinance` or internet access, some cells may fail — they are written to match the lab assignment exactly."
      ]
    },
    {
      "cell_type": "markdown",
      "metadata": {},
      "source": [
        "## Question 1 — Extracting Tesla Stock Data Using yfinance\n",
        "Create a ticker object and download the full history for Tesla (TSLA)."
      ]
    },
    {
      "cell_type": "code",
      "metadata": {},
      "source": [
        "import yfinance as yf\nimport pandas as pd\n\n# Create a ticker object for Tesla\ntesla = yf.Ticker(\"TSLA\")\n\n# Extract Tesla stock data for the maximum available period\ntesla_data = tesla.history(period=\"max\")\n\n# Reset the index to make Date a column instead of an index\ntesla_data.reset_index(inplace=True)\n\n# Display the first five rows\ntesla_data.head()\n"
      ]
    },
    {
      "cell_type": "markdown",
      "metadata": {},
      "source": [
        "## Question 2 — Extracting Tesla Revenue Data Using Web Scraping\n",
        "Use Macrotrends Tesla revenue page to extract the quarterly revenue table."
      ]
    },
    {
      "cell_type": "code",
      "metadata": {},
      "source": [
        "import requests\nfrom bs4 import BeautifulSoup\n\nurl = \"https://www.macrotrends.net/stocks/charts/TSLA/tesla/revenue\"\nhtml_data = requests.get(url).text\nsoup = BeautifulSoup(html_data, \"html.parser\")\n\n# Find the revenue table\ntables = soup.find_all(\"table\")\ntesla_revenue = None\nfor table in tables:\n    if \"Tesla Quarterly Revenue\" in str(table) or \"Tesla Quarterly Revenue\" in table.text:\n        tesla_revenue = table\n\nif tesla_revenue is None:\n    # Try another heuristic: find table with two columns 'Date' and 'Revenue'\n    for table in tables:\n        text = table.text.lower()\n        if 'revenue' in text and 'date' in text:\n            tesla_revenue = table\n\nif tesla_revenue is None:\n    raise ValueError('Could not find Tesla revenue table on Macrotrends page')\n\ntesla_revenue_data = pd.read_html(str(tesla_revenue))[0]\ntesla_revenue_data.columns = [\"Date\", \"Revenue\"]\n\n# Clean Revenue: remove $ and commas\ntesla_revenue_data[\"Revenue\"] = tesla_revenue_data[\"Revenue\"].replace({'\\$':'', ',':''}, regex=True)\ntesla_revenue_data.dropna(inplace=True)\ntesla_revenue_data = tesla_revenue_data[tesla_revenue_data[\"Revenue\"] != \"\"]\n\ntesla_revenue_data.head()\n"
      ]
    },
    {
      "cell_type": "markdown",
      "metadata": {},
      "source": [
        "## Question 3 — Extracting GameStop Stock Data Using yfinance\n",
        "Create a ticker object and download the full history for GameStop (GME)."
      ]
    },
    {
      "cell_type": "code",
      "metadata": {},
      "source": [
        "gme = yf.Ticker(\"GME\")\ngme_data = gme.history(period=\"max\")\ngme_data.reset_index(inplace=True)\ngme_data.head()\n"
      ]
    },
    {
      "cell_type": "markdown",
      "metadata": {},
      "source": [
        "## Question 4 — Extracting GameStop Revenue Data Using Web Scraping\n",
        "Use Macrotrends GameStop revenue page to extract the quarterly revenue table."
      ]
    },
    {
      "cell_type": "code",
      "metadata": {},
      "source": [
        "url = \"https://www.macrotrends.net/stocks/charts/GME/gamestop/revenue\"\nhtml_data = requests.get(url).text\nsoup = BeautifulSoup(html_data, \"html.parser\")\n\ntables = soup.find_all(\"table\")\ngme_revenue = None\nfor table in tables:\n    if \"GameStop Quarterly Revenue\" in str(table) or \"GameStop Quarterly Revenue\" in table.text:\n        gme_revenue = table\n\nif gme_revenue is None:\n    for table in tables:\n        text = table.text.lower()\n        if 'revenue' in text and 'date' in text:\n            gme_revenue = table\n\nif gme_revenue is None:\n    raise ValueError('Could not find GameStop revenue table on Macrotrends page')\n\ngme_revenue_data = pd.read_html(str(gme_revenue))[0]\ngme_revenue_data.columns = [\"Date\", \"Revenue\"]\ngme_revenue_data[\"Revenue\"] = gme_revenue_data[\"Revenue\"].replace({'\\$':'', ',':''}, regex=True)\ngme_revenue_data.dropna(inplace=True)\ngme_revenue_data = gme_revenue_data[gme_revenue_data[\"Revenue\"] != \"\"]\n\ngme_revenue_data.head()\n"
      ]
    },
    {
      "cell_type": "markdown",
      "metadata": {},
      "source": [
        "## Question 5 — Tesla Stock and Revenue Dashboard\n",
        "Plot Tesla Close price and Revenue on a dual-axis chart."
      ]
    },
    {
      "cell_type": "code",
      "metadata": {},
      "source": [
        "import matplotlib.pyplot as plt\nfrom matplotlib.dates import DateFormatter\n\n# Convert revenue Date to datetime if needed\ntry:\n    tesla_revenue_data['Date'] = pd.to_datetime(tesla_revenue_data['Date'])\nexcept Exception:\n    pass\n\nfig, ax1 = plt.subplots(figsize=(12,6))\nax1.plot(tesla_data['Date'], tesla_data['Close'], label='Tesla Close')\nax1.set_xlabel('Date')\nax1.set_ylabel('Stock Price (USD)')\n\nax2 = ax1.twinx()\nax2.plot(tesla_revenue_data['Date'], tesla_revenue_data['Revenue'].astype(float), color='orange', label='Revenue')\nax2.set_ylabel('Revenue (USD)')\n\nplt.title('Tesla Stock Price vs Revenue')\nax1.xaxis.set_major_formatter(DateFormatter('%Y-%m'))\nfig.autofmt_xdate()\nplt.show()\n"
      ]
    },
    {
      "cell_type": "markdown",
      "metadata": {},
      "source": [
        "## Question 6 — GameStop Stock and Revenue Dashboard\n",
        "Plot GameStop Close price and Revenue on a dual-axis chart."
      ]
    },
    {
      "cell_type": "code",
      "metadata": {},
      "source": [
        "try:\n    gme_revenue_data['Date'] = pd.to_datetime(gme_revenue_data['Date'])\nexcept Exception:\n    pass\n\nfig, ax1 = plt.subplots(figsize=(12,6))\nax1.plot(gme_data['Date'], gme_data['Close'], label='GME Close')\nax1.set_xlabel('Date')\nax1.set_ylabel('Stock Price (USD)')\n\nax2 = ax1.twinx()\nax2.plot(gme_revenue_data['Date'], gme_revenue_data['Revenue'].astype(float), color='orange', label='Revenue')\nax2.set_ylabel('Revenue (USD)')\n\nplt.title('GameStop Stock Price vs Revenue')\nax1.xaxis.set_major_formatter(DateFormatter('%Y-%m'))\nfig.autofmt_xdate()\nplt.show()\n"
      ]
    },
    {
      "cell_type": "markdown",
      "metadata": {},
      "source": [
        "## Question 7 — Save & Share\n",
        "Save this notebook as `Tesla_GameStop_Final_Project.ipynb`. Take screenshots of code+output and the two dashboards and upload them to the assignment submission."
      ]
    },
    {
      "cell_type": "code",
      "metadata": {},
      "source": [
        "print('Notebook ready. Run all cells to produce outputs and screenshots for submission.')\n"
      ]
    }
  ],
  "metadata": {
    "kernelspec": {
      "display_name": "Python 3",
      "language": "python",
      "name": "python3"
    },
    "language_info": {
      "name": "python",
      "version": "3.8"
    }
  },
  "nbformat": 4,
  "nbformat_minor": 5
}