{
 "cells": [
  {
   "cell_type": "markdown",
   "metadata": {},
   "source": [
    "# Extracting and Visualizing Stock Data (Tesla & GameStop) — PSEUDO DATA (2024)\n",
    "\n",
    "**Author:** Shcherbakov Illia"
   ]
  },
  {
   "cell_type": "markdown",
   "metadata": {},
   "source": [
    "## Question 1 — Extracting Tesla Stock Data Using yfinance\n",
    "\n",
    "**Pseudo `tesla_data.head()` (first 5 rows, 2024)**\n",
    "\n",
    "| Date | Open | High | Low | Close | Volume | Dividends | Stock Splits |\n",
    "|---:|---:|---:|---:|---:|---:|---:|---:|\n",
    "| 2024-01-02 | 128.34 | 131.50 | 126.80 | 130.22 | 42,560,000 | 0.0 | 0.0 |\n",
    "| 2024-01-03 | 130.50 | 133.12 | 129.10 | 132.70 | 35,210,000 | 0.0 | 0.0 |\n",
    "| 2024-01-04 | 133.00 | 135.40 | 132.20 | 134.85 | 30,890,000 | 0.0 | 0.0 |\n",
    "| 2024-01-05 | 135.10 | 137.00 | 134.00 | 136.45 | 28,430,000 | 0.0 | 0.0 |\n",
    "| 2024-01-08 | 136.80 | 139.25 | 136.10 | 138.90 | 31,120,000 | 0.0 | 0.0 |"
   ]
  },
  {
   "cell_type": "code",
   "metadata": {},
   "execution_count": null,
   "outputs": [],
   "source": [
    "import yfinance as yf\n",
    "import pandas as pd\n",
    "\n",
    "# tesla = yf.Ticker('TSLA')\n",
    "# tesla_data = tesla.history(period='max')\n",
    "# tesla_data.reset_index(inplace=True)\n",
    "# tesla_data.head()"
   ]
  },
  {
   "cell_type": "markdown",
   "metadata": {},
   "source": [
    "## Question 2 — Extracting Tesla Revenue Data Using Web Scraping\n",
    "\n",
    "**Pseudo `tesla_revenue_data` (quarterly revenue, 2024)**\n",
    "\n",
    "| Date | Revenue |\n",
    "|---|---:|\n",
    "| 2024-03-31 | 28,450,000 |\n",
    "| 2024-06-30 | 30,120,000 |\n",
    "| 2024-09-30 | 32,800,000 |\n",
    "| 2024-12-31 | 35,450,000 |\n",
    "| 2023-12-31 | 24,300,000 |"
   ]
  },
  {
   "cell_type": "code",
   "metadata": {},
   "execution_count": null,
   "outputs": [],
   "source": [
    "from bs4 import BeautifulSoup\n",
    "import requests\n",
    "import pandas as pd\n",
    "\n",
    "# url = 'https://www.macrotrends.net/stocks/charts/TSLA/tesla/revenue'\n",
    "# html_data = requests.get(url).text\n",
    "# soup = BeautifulSoup(html_data, 'html.parser')"
   ]
  },
  {
   "cell_type": "markdown",
   "metadata": {},
   "source": [
    "## Question 3 — Extracting GameStop Stock Data Using yfinance\n",
    "\n",
    "**Pseudo `gme_data.head()` (first 5 rows, 2024)**\n",
    "\n",
    "| Date | Open | High | Low | Close | Volume | Dividends | Stock Splits |\n",
    "|---:|---:|---:|---:|---:|---:|---:|---:|\n",
    "| 2024-01-02 | 16.25 | 16.90 | 15.90 | 16.55 | 18,340,000 | 0.0 | 0.0 |\n",
    "| 2024-01-03 | 16.60 | 17.10 | 16.40 | 16.95 | 14,210,000 | 0.0 | 0.0 |\n",
    "| 2024-01-04 | 17.00 | 17.55 | 16.80 | 17.40 | 12,890,000 | 0.0 | 0.0 |\n",
    "| 2024-01-05 | 17.50 | 18.00 | 17.20 | 17.85 | 11,430,000 | 0.0 | 0.0 |\n",
    "| 2024-01-08 | 17.90 | 18.40 | 17.60 | 18.10 | 13,120,000 | 0.0 | 0.0 |"
   ]
  },
  {
   "cell_type": "code",
   "metadata": {},
   "execution_count": null,
   "outputs": [],
   "source": [
    "import yfinance as yf\n",
    "# gme = yf.Ticker('GME')\n",
    "# gme_data = gme.history(period='max')\n",
    "# gme_data.reset_index(inplace=True)\n",
    "# gme_data.head()"
   ]
  },
  {
   "cell_type": "markdown",
   "metadata": {},
   "source": [
    "## Question 4 — Extracting GameStop Revenue Data Using Web Scraping\n",
    "\n",
    "**Pseudo `gme_revenue_data` (quarterly revenue, 2024)**\n",
    "\n",
    "| Date | Revenue |\n",
    "|---|---:|\n",
    "| 2024-03-31 | 1,250,000 |\n",
    "| 2024-06-30 | 1,320,000 |\n",
    "| 2024-09-30 | 1,410,000 |\n",
    "| 2024-12-31 | 1,500,000 |\n",
    "| 2023-12-31 | 1,050,000 |"
   ]
  },
  {
   "cell_type": "code",
   "metadata": {},
   "execution_count": null,
   "outputs": [],
   "source": [
    "# scraping reference for GME revenue\n",
    "# url = 'https://www.macrotrends.net/stocks/charts/GME/gamestop/revenue'"
   ]
  },
  {
   "cell_type": "markdown",
   "metadata": {},
   "source": [
    "## Question 5 — Tesla Stock and Revenue Dashboard"
   ]
  },
  {
   "cell_type": "code",
   "metadata": {},
   "execution_count": null,
   "outputs": [],
   "source": [
    "import matplotlib.pyplot as plt\n",
    "plt.figure(figsize=(10,5))\n",
    "plt.plot(['2024-01','2024-04','2024-07','2024-10'], [130, 140, 150, 160], label='Tesla Close')\n",
    "plt.plot(['2024-01','2024-04','2024-07','2024-10'], [28450, 30120, 32800, 35450], label='Revenue')\n",
    "plt.legend()\n",
    "plt.title('Tesla Stock Price vs Revenue (sample)')\n",
    "plt.show()\n"
   ]
  },
  {
   "cell_type": "markdown",
   "metadata": {},
   "source": [
    "## Question 6 — GameStop Stock and Revenue Dashboard"
   ]
  },
  {
   "cell_type": "code",
   "metadata": {},
   "execution_count": null,
   "outputs": [],
   "source": [
    "plt.figure(figsize=(10,5))\n",
    "plt.plot(['2024-01','2024-04','2024-07','2024-10'], [16.5, 17.4, 18.0, 19.0], label='GME Close')\n",
    "plt.plot(['2024-01','2024-04','2024-07','2024-10'], [1.25, 1.32, 1.41, 1.50], label='Revenue (millions)')\n",
    "plt.legend()\n",
    "plt.title('GameStop Stock Price vs Revenue (sample)')\n",
    "plt.show()\n"
   ]
  }
 ],
 "metadata": {},
 "nbformat": 4,
 "nbformat_minor": 5
}
