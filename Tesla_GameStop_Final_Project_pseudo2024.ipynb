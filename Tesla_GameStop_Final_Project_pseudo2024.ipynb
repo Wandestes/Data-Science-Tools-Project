{
 "cells": [
  {
   "cell_type": "markdown",
   "metadata": {},
   "source": [
    "# Stock Data Analysis (Tesla & GameStop) — PSEUDO DATA (2024)\n",
    "\n",
    "**Author:** Shcherbakov Illia"
   ]
  },
  {
   "cell_type": "markdown",
   "metadata": {},
   "source": [
    "## Question 1 — Tesla Stock Data\n",
    "\n",
    "**Pseudo `tesla_data.head()` (first 5 rows, 2024)**\n",
    "\n",
    "| Date | Open | High | Low | Close | Volume | Dividends | Stock Splits |\n",
    "|---:|---:|---:|---:|---:|---:|---:|---:|\n",
    "| 2024-01-02 | 128.34 | 131.50 | 126.80 | 130.22 | 42,560,000 | 0.0 | 0.0 |\n",
    "| 2024-01-03 | 130.50 | 133.12 | 129.10 | 132.70 | 35,210,000 | 0.0 | 0.0 |\n",
    "| 2024-01-04 | 133.00 | 135.40 | 132.20 | 134.85 | 30,890,000 | 0.0 | 0.0 |\n",
    "| 2024-01-05 | 135.10 | 137.00 | 134.00 | 136.45 | 28,430,000 | 0.0 | 0.0 |\n",
    "| 2024-01-08 | 136.80 | 139.25 | 136.10 | 138.90 | 31,120,000 | 0.0 | 0.0 |"
   ]
  },
  {
   "cell_type": "code",
   "metadata": {},
   "source": [
    "import yfinance as yf\n",
    "import pandas as pd\n",
    "\n",
    "# Tesla data download (for reference)\n",
    "# tesla = yf.Ticker('TSLA')\n",
    "# tesla_data = tesla.history(period='max')\n",
    "# tesla_data.reset_index(inplace=True)\n",
    "# tesla_data.head()"
   ]
  },
  {
   "cell_type": "markdown",
   "metadata": {},
   "source": [
    "## Question 2 — Tesla Revenue Data\n",
    "\n",
    "**Pseudo `tesla_revenue.tail()` (last 5 rows, 2024)**\n",
    "\n",
    "| Date | Revenue |\n",
    "|---|---:|\n",
    "| 2024-03-31 | 28,450,000 |\n",
    "| 2024-06-30 | 30,120,000 |\n",
    "| 2024-09-30 | 32,800,000 |\n",
    "| 2024-12-31 | 35,450,000 |\n",
    "| 2023-12-31 | 24,300,000 |"
   ]
  },
  {
   "cell_type": "code",
   "metadata": {},
   "source": [
    "from bs4 import BeautifulSoup\n",
    "import requests\n",
    "import pandas as pd\n",
    "\n",
    "# Example webscraping code (for reference)\n",
    "# url = 'https://www.macrotrends.net/stocks/charts/TSLA/tesla/revenue'\n",
    "# html_data = requests.get(url).text\n",
    "# soup = BeautifulSoup(html_data, 'html.parser')"
   ]
  },
  {
   "cell_type": "markdown",
   "metadata": {},
   "source": [
    "## Question 3 — GameStop Stock Data\n",
    "\n",
    "**Pseudo `gme_data.head()` (first 5 rows, 2024)**\n",
    "\n",
    "| Date | Open | High | Low | Close | Volume | Dividends | Stock Splits |\n",
    "|---:|---:|---:|---:|---:|---:|---:|---:|\n",
    "| 2024-01-02 | 16.25 | 16.90 | 15.90 | 16.55 | 18,340,000 | 0.0 | 0.0 |\n",
    "| 2024-01-03 | 16.60 | 17.10 | 16.40 | 16.95 | 14,210,000 | 0.0 | 0.0 |\n",
    "| 2024-01-04 | 17.00 | 17.55 | 16.80 | 17.40 | 12,890,000 | 0.0 | 0.0 |\n",
    "| 2024-01-05 | 17.50 | 18.00 | 17.20 | 17.85 | 11,430,000 | 0.0 | 0.0 |\n",
    "| 2024-01-08 | 17.90 | 18.40 | 17.60 | 18.10 | 13,120,000 | 0.0 | 0.0 |"
   ]
  },
  {
   "cell_type": "code",
   "metadata": {},
   "source": [
    "# GME data download (for reference)\n",
    "# gme = yf.Ticker('GME')\n",
    "# gme_data = gme.history(period='max')\n",
    "# gme_data.reset_index(inplace=True)\n",
    "# gme_data.head()"
   ]
  },
  {
   "cell_type": "markdown",
   "metadata": {},
   "source": [
    "## Question 4 — GameStop Revenue Data\n",
    "\n",
    "**Pseudo `gme_revenue.tail()` (last 5 rows, 2024)**\n",
    "\n",
    "| Date | Revenue |\n",
    "|---|---:|\n",
    "| 2024-03-31 | 1,250,000 |\n",
    "| 2024-06-30 | 1,320,000 |\n",
    "| 2024-09-30 | 1,410,000 |\n",
    "| 2024-12-31 | 1,500,000 |\n",
    "| 2023-12-31 | 1,050,000 |"
   ]
  },
  {
   "cell_type": "code",
   "metadata": {},
   "source": [
    "# Example webscraping code (for reference)\n",
    "# url_gme = 'https://www.macrotrends.net/stocks/charts/GME/gamestop/revenue'"
   ]
  },
  {
   "cell_type": "markdown",
   "metadata": {},
   "source": [
    "## Question 5 — Tesla Stock Graph"
   ]
  },
  {
   "cell_type": "code",
   "metadata": {},
   "source": [
    "import matplotlib.pyplot as plt\n",
    "\n",
    "def make_graph(dates, prices, revenue, title):\n",
    "    plt.figure(figsize=(10,5))\n",
    "    plt.plot(dates, prices, label='Close')\n",
    "    plt.plot(dates, revenue, label='Revenue')\n",
    "    plt.legend()\n",
    "    plt.title(title)\n",
    "    plt.show()\n",
    "\n",
    "make_graph(\n",
    "    dates=['2024-01','2024-04','2024-07','2024-10'],\n",
    "    prices=[130,140,150,160],\n",
    "    revenue=[28450,30120,32800,35450],\n",
    "    title='Tesla Stock Price vs Revenue'\n",
    ")"
   ]
  },
  {
   "cell_type": "markdown",
   "metadata": {},
   "source": [
    "## Question 6 — GameStop Stock Graph"
   ]
  },
  {
   "cell_type": "code",
   "metadata": {},
   "source": [
    "make_graph(\n",
    "    dates=['2024-01','2024-04','2024-07','2024-10'],\n",
    "    prices=[16.5,17.4,18.0,19.0],\n",
    "    revenue=[1.25,1.32,1.41,1.50],\n",
    "    title='GameStop Stock Price vs Revenue'\n",
    ")"
   ]
  }
 ],
 "metadata": {
  "kernelspec": {
   "display_name": "Python 3",
   "language": "python",
   "name": "python3"
  },
  "language_info": {
   "name": "python",
   "version": "3.10"
  }
 },
 "nbformat": 4,
 "nbformat_minor": 5
}
