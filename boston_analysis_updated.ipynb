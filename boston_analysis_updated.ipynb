{
 "cells": [
  {
   "cell_type": "markdown",
   "id": "f30471f2",
   "metadata": {},
   "source": [
    "Author: Shcherbakov Illia"
   ]
  },
  {
   "cell_type": "code",
   "execution_count": null,
   "id": "a5db35ec",
   "metadata": {},
   "outputs": [],
   "source": [
    "# Imports\n",
    "import pandas as pd\n",
    "import numpy as np\n",
    "import matplotlib.pyplot as plt\n",
    "import seaborn as sns\n",
    "from scipy import stats\n",
    "import statsmodels.api as sm\n",
    "from statsmodels.formula.api import ols\n",
    "sns.set(style='whitegrid')\n",
    "\n",
    "# Helpful display options\n",
    "pd.options.display.float_format = '{:,.4f}'.format\n"
   ]
  },
  {
   "cell_type": "code",
   "execution_count": null,
   "id": "30b38c63",
   "metadata": {},
   "outputs": [],
   "source": [
    "# Load the Boston dataset (tries fetch_openml, then fallback). If you have a local 'boston.csv' place it in the same folder.\n",
    "def load_boston_dataframe():\n",
    "    try:\n",
    "        from sklearn.datasets import fetch_openml\n",
    "        b = fetch_openml(name='Boston', version=1, as_frame=True)\n",
    "        df = b.frame.copy()\n",
    "        # older naming: target named 'MEDV' sometimes\n",
    "        if 'MEDV' not in df.columns and 'medv' in df.columns:\n",
    "            df.rename(columns={'medv':'MEDV'}, inplace=True)\n",
    "        return df\n",
    "    except Exception as e:\n",
    "        print('fetch_openml failed:', e)\n",
    "    try:\n",
    "        # scikit-learn older versions\n",
    "        from sklearn.datasets import load_boston\n",
    "        b = load_boston()\n",
    "        df = pd.DataFrame(b.data, columns=b.feature_names)\n",
    "        df['MEDV'] = b.target\n",
    "        return df\n",
    "    except Exception as e:\n",
    "        print('load_boston failed:', e)\n",
    "    # fallback to CSV if present\n",
    "    if os.path.exists('boston.csv'):\n",
    "        return pd.read_csv('boston.csv')\n",
    "    raise RuntimeError('Could not load Boston dataset. Provide a local boston.csv or install scikit-learn with openml support.')\n",
    "\n",
    "df = load_boston_dataframe()\n",
    "df.head()\n"
   ]
  },
  {
   "cell_type": "markdown",
   "id": "d0a14c53",
   "metadata": {},
   "source": [
    "## Task 1: Familiarize with dataset\n",
    "\n",
    "Show basic info and descriptive statistics."
   ]
  },
  {
   "cell_type": "code",
   "execution_count": null,
   "id": "52c44610",
   "metadata": {},
   "outputs": [],
   "source": [
    "df.info()\n",
    "df.describe()\n"
   ]
  },
  {
   "cell_type": "markdown",
   "id": "4fc41931",
   "metadata": {},
   "source": [
    "## Task 2: Visualizations and descriptive summaries\n",
    "\n",
    "All plots include titles and axis labels."
   ]
  },
  {
   "cell_type": "code",
   "execution_count": null,
   "id": "e6d2a9c1",
   "metadata": {},
   "outputs": [],
   "source": [
    "# 1) Boxplot for MEDV (Median value of owner-occupied homes)\n",
    "plt.figure(figsize=(8,6))\n",
    "sns.boxplot(y=df['MEDV'])\n",
    "plt.title('Boxplot of MEDV (Median value of owner-occupied homes)')\n",
    "plt.ylabel('MEDV ($1000s)')\n",
    "plt.tight_layout()\n",
    "plt.show()\n"
   ]
  },
  {
   "cell_type": "code",
   "execution_count": null,
   "id": "e3af01f2",
   "metadata": {},
   "outputs": [],
   "source": [
    "# 2) Bar plot for the Charles River variable CHAS (0/1 counts)\n",
    "if 'CHAS' in df.columns:\n",
    "    counts = df['CHAS'].value_counts().sort_index()\n",
    "    plt.figure(figsize=(6,4))\n",
    "    sns.barplot(x=counts.index.astype(str), y=counts.values)\n",
    "    plt.title('Counts of Tracts Bounding the Charles River (CHAS)')\n",
    "    plt.xlabel('CHAS (0 = No, 1 = Yes)')\n",
    "    plt.ylabel('Number of tracts')\n",
    "    plt.tight_layout()\n",
    "    plt.show()\n",
    "else:\n",
    "    print('CHAS variable not found in dataframe.')\n"
   ]
  },
  {
   "cell_type": "code",
   "execution_count": null,
   "id": "436bc3b8",
   "metadata": {},
   "outputs": [],
   "source": [
    "# 3) Boxplot MEDV vs AGE groups (discretize AGE into 3 groups)\n",
    "age_bins = [0, 35, 70, 200]\n",
    "age_labels = ['<=35','36-70','>70']\n",
    "df['AGE_grp'] = pd.cut(df['AGE'], bins=age_bins, labels=age_labels, include_lowest=True)\n",
    "plt.figure(figsize=(8,6))\n",
    "sns.boxplot(x='AGE_grp', y='MEDV', data=df)\n",
    "plt.title('MEDV by AGE group (proportion built prior to 1940)')\n",
    "plt.xlabel('AGE group')\n",
    "plt.ylabel('MEDV ($1000s)')\n",
    "plt.tight_layout()\n",
    "plt.show()\n"
   ]
  },
  {
   "cell_type": "code",
   "execution_count": null,
   "id": "c60af03d",
   "metadata": {},
   "outputs": [],
   "source": [
    "# 4) Scatter plot: NOX vs INDUS\n",
    "plt.figure(figsize=(8,6))\n",
    "sns.scatterplot(x='INDUS', y='NOX', data=df)\n",
    "plt.title('Nitric oxides concentration (NOX) vs proportion of non-retail business acres (INDUS)')\n",
    "plt.xlabel('INDUS (proportion of non-retail business acres)')\n",
    "plt.ylabel('NOX (nitric oxides concentration)')\n",
    "plt.tight_layout()\n",
    "plt.show()\n",
    "\n",
    "print('Pearson correlation (NOX, INDUS):', df['NOX'].corr(df['INDUS']))\n"
   ]
  },
  {
   "cell_type": "code",
   "execution_count": null,
   "id": "e492b106",
   "metadata": {},
   "outputs": [],
   "source": [
    "# 5) Histogram for PTRATIO (pupil-teacher ratio)\n",
    "plt.figure(figsize=(8,5))\n",
    "sns.histplot(df['PTRATIO'], bins=15, kde=False)\n",
    "plt.title('Histogram of Pupil-Teacher Ratio (PTRATIO)')\n",
    "plt.xlabel('PTRATIO')\n",
    "plt.ylabel('Count')\n",
    "plt.tight_layout()\n",
    "plt.show()\n"
   ]
  },
  {
   "cell_type": "markdown",
   "id": "3ee59562",
   "metadata": {},
   "source": [
    "## Task 3: Hypothesis tests (α = 0.05)\n",
    "\n",
    "We will perform:\n",
    "1. Two-sample t-test for MEDV groups by CHAS\n",
    "2. One-way ANOVA for MEDV across AGE groups\n",
    "3. Pearson correlation test for NOX vs INDUS\n",
    "4. Regression: effect of DIS on MEDV (OLS)\n"
   ]
  },
  {
   "cell_type": "code",
   "execution_count": null,
   "id": "ed888f49",
   "metadata": {},
   "outputs": [],
   "source": [
    "alpha = 0.05\n",
    "\n",
    "## 1) T-test: MEDV for CHAS = 1 vs CHAS = 0\n",
    "group0 = df[df['CHAS']==0]['MEDV']\n",
    "group1 = df[df['CHAS']==1]['MEDV']\n",
    "print('N (CHAS=0) =', len(group0), 'N (CHAS=1) =', len(group1))\n",
    "tstat, pval = stats.ttest_ind(group0, group1, equal_var=False)  # Welch's t-test\n",
    "print('\\nT-test MEDV by CHAS (Welch):')\n",
    "print('t = %0.4f, p = %0.4f' % (tstat, pval))\n",
    "if pval < alpha:\n",
    "    print('Reject H0: there is a significant difference in MEDV between CHAS groups (alpha=0.05)')\n",
    "else:\n",
    "    print('Fail to reject H0: no significant difference detected (alpha=0.05)')\n"
   ]
  },
  {
   "cell_type": "code",
   "execution_count": null,
   "id": "18050353",
   "metadata": {},
   "outputs": [],
   "source": [
    "## 2) ANOVA: MEDV across AGE groups\n",
    "groups = [grp.dropna() for name, grp in df.groupby('AGE_grp')['MEDV']]\n",
    "fstat, pval_anova = stats.f_oneway(*groups)\n",
    "print('ANOVA MEDV by AGE groups: F = %0.4f, p = %0.4f' % (fstat, pval_anova))\n",
    "if pval_anova < alpha:\n",
    "    print('Reject H0: At least one AGE group has different MEDV (alpha=0.05)')\n",
    "else:\n",
    "    print('Fail to reject H0: No evidence of difference across AGE groups (alpha=0.05)')\n"
   ]
  },
  {
   "cell_type": "code",
   "execution_count": null,
   "id": "7764db49",
   "metadata": {},
   "outputs": [],
   "source": [
    "## 3) Pearson correlation: NOX vs INDUS\n",
    "r, p_corr = stats.pearsonr(df['NOX'], df['INDUS'])\n",
    "print('Pearson r = %0.4f, p = %0.4f' % (r, p_corr))\n",
    "if p_corr < alpha:\n",
    "    print('Reject H0: there is a significant linear relationship between NOX and INDUS (alpha=0.05)')\n",
    "else:\n",
    "    print('Fail to reject H0: no evidence of linear relationship (alpha=0.05)')\n"
   ]
  },
  {
   "cell_type": "code",
   "execution_count": null,
   "id": "5250100b",
   "metadata": {},
   "outputs": [],
   "source": [
    "## 4) Regression: impact of DIS on MEDV\n",
    "X = sm.add_constant(df['DIS'])\n",
    "model = sm.OLS(df['MEDV'], X).fit()\n",
    "print(model.summary())\n",
    "coef = model.params['DIS']\n",
    "p_coef = model.pvalues['DIS']\n",
    "print('\\nInterpretation:')\n",
    "print('Coefficient for DIS = %0.4f' % coef)\n",
    "if p_coef < alpha:\n",
    "    print('This coefficient is statistically significant (p < 0.05).')\n",
    "else:\n",
    "    print('This coefficient is NOT statistically significant at alpha = 0.05.')\n"
   ]
  },
  {
   "cell_type": "markdown",
   "id": "939d0d0a",
   "metadata": {},
   "source": [
    "Author: Shcherbakov Illia"
   ]
  }
 ],
 "metadata": {
  "kernelspec": {
   "display_name": "Python 3",
   "language": "python",
   "name": "python3"
  },
  "language_info": {
   "name": "python",
   "version": "3.x"
  }
 },
 "nbformat": 4,
 "nbformat_minor": 5
}
