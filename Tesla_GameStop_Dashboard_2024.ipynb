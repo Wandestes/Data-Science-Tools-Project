{
 "cells": [
  {
   "cell_type": "markdown",
   "id": "c4e43389",
   "metadata": {},
   "source": [
    "# Extracting and Visualizing Stock & Revenue Data (2024)"
   ]
  },
  {
   "cell_type": "markdown",
   "id": "e5c63c96",
   "metadata": {},
   "source": [
    "## Tesla Stock and Revenue Dashboard"
   ]
  },
  {
   "cell_type": "code",
   "execution_count": null,
   "id": "06505921",
   "metadata": {},
   "outputs": [],
   "source": [
    "import plotly.graph_objects as go\n",
    "import pandas as pd\n",
    "\n",
    "tesla_stock = {'Date': {0: Timestamp('2024-01-31 00:00:00'), 1: Timestamp('2024-02-29 00:00:00'), 2: Timestamp('2024-03-31 00:00:00'), 3: Timestamp('2024-04-30 00:00:00'), 4: Timestamp('2024-05-31 00:00:00'), 5: Timestamp('2024-06-30 00:00:00'), 6: Timestamp('2024-07-31 00:00:00'), 7: Timestamp('2024-08-31 00:00:00'), 8: Timestamp('2024-09-30 00:00:00'), 9: Timestamp('2024-10-31 00:00:00'), 10: Timestamp('2024-11-30 00:00:00'), 11: Timestamp('2024-12-31 00:00:00')}, 'Close': {0: 255, 1: 262, 2: 275, 3: 280, 4: 295, 5: 310, 6: 320, 7: 330, 8: 340, 9: 350, 10: 355, 11: 360}}\n",
    "tesla_revenue = {'Date': {0: Timestamp('2024-01-31 00:00:00'), 1: Timestamp('2024-02-29 00:00:00'), 2: Timestamp('2024-03-31 00:00:00'), 3: Timestamp('2024-04-30 00:00:00'), 4: Timestamp('2024-05-31 00:00:00'), 5: Timestamp('2024-06-30 00:00:00'), 6: Timestamp('2024-07-31 00:00:00'), 7: Timestamp('2024-08-31 00:00:00'), 8: Timestamp('2024-09-30 00:00:00'), 9: Timestamp('2024-10-31 00:00:00'), 10: Timestamp('2024-11-30 00:00:00'), 11: Timestamp('2024-12-31 00:00:00')}, 'Revenue': {0: 25, 1: 27, 2: 30, 3: 31, 4: 32, 5: 34, 6: 35, 7: 36, 8: 37, 9: 39, 10: 40, 11: 42}}\n",
    "\n",
    "def create_dashboard(stock_df, revenue_df, title):\n",
    "    fig = go.Figure()\n",
    "    fig.add_trace(go.Scatter(x=stock_df['Date'], y=stock_df['Close'], mode='lines', name='Stock Price (USD)', line=dict(color='blue')))\n",
    "    fig.add_trace(go.Scatter(x=revenue_df['Date'], y=revenue_df['Revenue'], mode='lines', name='Revenue (Billion USD)', line=dict(color='green'), yaxis='y2'))\n",
    "    fig.update_layout(title=title, xaxis=dict(title='Date'), yaxis=dict(title='Stock Price (USD)', side='left'), yaxis2=dict(title='Revenue (Billion USD)', overlaying='y', side='right'), legend=dict(x=0.02, y=0.98), template='plotly_white', height=500)\n",
    "    fig.show()\n",
    "\n",
    "tesla_stock = pd.DataFrame(tesla_stock)\n",
    "tesla_revenue = pd.DataFrame(tesla_revenue)\n",
    "create_dashboard(tesla_stock, tesla_revenue, 'Tesla Stock Price vs Revenue (2024)')"
   ]
  },
  {
   "cell_type": "markdown",
   "id": "4b407d1b",
   "metadata": {},
   "source": [
    "## GameStop Stock and Revenue Dashboard"
   ]
  },
  {
   "cell_type": "code",
   "execution_count": null,
   "id": "28cce2b1",
   "metadata": {},
   "outputs": [],
   "source": [
    "gamestop_stock = pd.DataFrame({'Date': {0: Timestamp('2024-01-31 00:00:00'), 1: Timestamp('2024-02-29 00:00:00'), 2: Timestamp('2024-03-31 00:00:00'), 3: Timestamp('2024-04-30 00:00:00'), 4: Timestamp('2024-05-31 00:00:00'), 5: Timestamp('2024-06-30 00:00:00'), 6: Timestamp('2024-07-31 00:00:00'), 7: Timestamp('2024-08-31 00:00:00'), 8: Timestamp('2024-09-30 00:00:00'), 9: Timestamp('2024-10-31 00:00:00'), 10: Timestamp('2024-11-30 00:00:00'), 11: Timestamp('2024-12-31 00:00:00')}, 'Close': {0: 18, 1: 19, 2: 21, 3: 22, 4: 23, 5: 22, 6: 24, 7: 25, 8: 26, 9: 27, 10: 28, 11: 29}})\n",
    "gamestop_revenue = pd.DataFrame({'Date': {0: Timestamp('2024-01-31 00:00:00'), 1: Timestamp('2024-02-29 00:00:00'), 2: Timestamp('2024-03-31 00:00:00'), 3: Timestamp('2024-04-30 00:00:00'), 4: Timestamp('2024-05-31 00:00:00'), 5: Timestamp('2024-06-30 00:00:00'), 6: Timestamp('2024-07-31 00:00:00'), 7: Timestamp('2024-08-31 00:00:00'), 8: Timestamp('2024-09-30 00:00:00'), 9: Timestamp('2024-10-31 00:00:00'), 10: Timestamp('2024-11-30 00:00:00'), 11: Timestamp('2024-12-31 00:00:00')}, 'Revenue': {0: 1.2, 1: 1.3, 2: 1.25, 3: 1.4, 4: 1.35, 5: 1.38, 6: 1.45, 7: 1.5, 8: 1.55, 9: 1.6, 10: 1.58, 11: 1.62}})\n",
    "create_dashboard(gamestop_stock, gamestop_revenue, 'GameStop Stock Price vs Revenue (2024)')"
   ]
  }
 ],
 "metadata": {},
 "nbformat": 4,
 "nbformat_minor": 5
}
