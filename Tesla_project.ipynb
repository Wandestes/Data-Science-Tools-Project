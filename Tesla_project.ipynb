# --- Final Project: Tesla & GameStop Stock and Revenue Analysis ---
# Author: [Shcherbakov Illia]
# Date: [19.10.2025]
# ---------------------------------------------------------------

import yfinance as yf
import pandas as pd
import requests
from bs4 import BeautifulSoup
import plotly.graph_objects as go

# ---------------------------------------------------------------
# Question 1: Extracting Tesla Stock Data Using yfinance
# ---------------------------------------------------------------
tesla = yf.Ticker("TSLA")
tesla_data = tesla.history(period="max")
tesla_data.reset_index(inplace=True)
print("Tesla stock data:")
print(tesla_data.head())

# ---------------------------------------------------------------
# Question 2: Extracting Tesla Revenue Data Using Webscraping
# ---------------------------------------------------------------
url_tesla = "https://www.macrotrends.net/stocks/charts/TSLA/tesla/revenue"
html_data_tesla = requests.get(url_tesla).text
soup_tesla = BeautifulSoup(html_data_tesla, "html.parser")

tables = soup_tesla.find_all("table")
tesla_revenue = pd.DataFrame(columns=["Date", "Revenue"])

for table in tables:
    if "Tesla Quarterly Revenue" in str(table):
        rows = table.find_all("tr")
        for row in rows:
            cols = row.find_all("td")
            if len(cols) == 2:
                date = cols[0].text.strip()
                revenue = cols[1].text.strip()
                tesla_revenue = pd.concat([tesla_revenue, pd.DataFrame({"Date":[date], "Revenue":[revenue]})], ignore_index=True)

tesla_revenue["Revenue"] = tesla_revenue["Revenue"].str.replace(",", "").str.replace("$", "")
tesla_revenue.dropna(inplace=True)
tesla_revenue = tesla_revenue[tesla_revenue["Revenue"] != ""]
print("Tesla revenue data:")
print(tesla_revenue.head())

# ---------------------------------------------------------------
# Question 3: Extracting GameStop Stock Data Using yfinance
# ---------------------------------------------------------------
gme = yf.Ticker("GME")
gme_data = gme.history(period="max")
gme_data.reset_index(inplace=True)
print("GameStop stock data:")
print(gme_data.head())

# ---------------------------------------------------------------
# Question 4: Extracting GameStop Revenue Data Using Webscraping
# ---------------------------------------------------------------
url_gme = "https://www.macrotrends.net/stocks/charts/GME/gamestop/revenue"
html_data_gme = requests.get(url_gme).text
soup_gme = BeautifulSoup(html_data_gme, "html.parser")

tables = soup_gme.find_all("table")
gme_revenue = pd.DataFrame(columns=["Date", "Revenue"])

for table in tables:
    if "GameStop Quarterly Revenue" in str(table):
        rows = table.find_all("tr")
        for row in rows:
            cols = row.find_all("td")
            if len(cols) == 2:
                date = cols[0].text.strip()
                revenue = cols[1].text.strip()
                gme_revenue = pd.concat([gme_revenue, pd.DataFrame({"Date":[date], "Revenue":[revenue]})], ignore_index=True)

gme_revenue["Revenue"] = gme_revenue["Revenue"].str.replace(",", "").str.replace("$", "")
gme_revenue.dropna(inplace=True)
gme_revenue = gme_revenue[gme_revenue["Revenue"] != ""]
print("GameStop revenue data:")
print(gme_revenue.head())

# ---------------------------------------------------------------
# Question 5: Tesla Stock and Revenue Dashboard
# ---------------------------------------------------------------
fig_tesla = go.Figure()
fig_tesla.add_trace(go.Scatter(x=tesla_data["Date"], y=tesla_data["Close"], name="Tesla Stock Price"))
fig_tesla.add_trace(go.Scatter(x=tesla_revenue["Date"], y=tesla_revenue["Revenue"].astype(float), name="Tesla Revenue", yaxis="y2"))

fig_tesla.update_layout(
    title="Tesla Stock Price vs Revenue",
    xaxis_title="Date",
    yaxis_title="Stock Price (USD)",
    yaxis2=dict(title="Revenue (USD Millions)", overlaying="y", side="right")
)
fig_tesla.show()

# ---------------------------------------------------------------
# Question 6: GameStop Stock and Revenue Dashboard
# ---------------------------------------------------------------
fig_gme = go.Figure()
fig_gme.add_trace(go.Scatter(x=gme_data["Date"], y=gme_data["Close"], name="GameStop Stock Price"))
fig_gme.add_trace(go.Scatter(x=gme_revenue["Date"], y=gme_revenue["Revenue"].astype(float), name="GameStop Revenue", yaxis="y2"))

fig_gme.update_layout(
    title="GameStop Stock Price vs Revenue",
    xaxis_title="Date",
    yaxis_title="Stock Price (USD)",
    yaxis2=dict(title="Revenue (USD Millions)", overlaying="y", side="right")
)
fig_gme.show()

# ---------------------------------------------------------------
# Question 7: Sharing your Assignment Notebook
# ---------------------------------------------------------------
print("✅ All tasks completed. Now save and share your notebook as instructed.")
